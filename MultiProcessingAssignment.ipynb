{
 "cells": [
  {
   "cell_type": "code",
   "execution_count": 1,
   "id": "ad30445b-75c5-4da8-a722-7c40a84dc9b2",
   "metadata": {},
   "outputs": [
    {
     "data": {
      "text/plain": [
       "'\\nMUltiprocessing : Multiprocessing refers to the ability of a system to support more than one processor at the same time.\\n'"
      ]
     },
     "execution_count": 1,
     "metadata": {},
     "output_type": "execute_result"
    }
   ],
   "source": [
    "# Ans : 1\n",
    "'''\n",
    "MUltiprocessing : Multiprocessing refers to the ability of a system to support more than one processor at the same time.\n",
    "'''\n",
    "# Multiprogramming is useful to execute many different tasks concurrently for speed."
   ]
  },
  {
   "cell_type": "code",
   "execution_count": 2,
   "id": "00737169-8ee8-45a5-807b-fb200e9b0859",
   "metadata": {},
   "outputs": [
    {
     "data": {
      "text/plain": [
       "'\\nDifference between multiprocessing and multithreading :\\n    > In Multiprocessing, CPUs are added for increasing computing power While In Multithreading,\\n      many threads are created of a single process for increasing computing power.\\n    > In Multiprocessing, Many processes are executed simultaneously While in multithreading,\\n      many threads of a process are executed simultaneously.\\n    > In Multiprocessing, every process owned a separate address space While in Multithreading,\\n      a common address space is shared by all the threads.\\n'"
      ]
     },
     "execution_count": 2,
     "metadata": {},
     "output_type": "execute_result"
    }
   ],
   "source": [
    "# Ans : 2\n",
    "'''\n",
    "Difference between multiprocessing and multithreading :\n",
    "    > In Multiprocessing, CPUs are added for increasing computing power While In Multithreading,\n",
    "      many threads are created of a single process for increasing computing power.\n",
    "    > In Multiprocessing, Many processes are executed simultaneously While in multithreading,\n",
    "      many threads of a process are executed simultaneously.\n",
    "    > In Multiprocessing, every process owned a separate address space While in Multithreading,\n",
    "      a common address space is shared by all the threads.\n",
    "'''"
   ]
  },
  {
   "cell_type": "code",
   "execution_count": 7,
   "id": "06aba00e-714a-4c96-ae65-d3b8a6eacf87",
   "metadata": {},
   "outputs": [
    {
     "name": "stdin",
     "output_type": "stream",
     "text": [
      "enter a number 5\n"
     ]
    },
    {
     "name": "stdout",
     "output_type": "stream",
     "text": [
      "this is main program\n",
      "this is multiprocessing program\n",
      "Squre is: 25\n"
     ]
    }
   ],
   "source": [
    "# Ans : 3\n",
    "import multiprocessing\n",
    "def squre(num):\n",
    "    print(\"this is multiprocessing program\")\n",
    "    print(\"Squre is:\",num**2)\n",
    "\n",
    "if __name__=='__main__':\n",
    "    num=int(input(\"enter a number\"))\n",
    "    m=multiprocessing.Process(target=squre , args=(num,))\n",
    "    print(\"this is main program\")\n",
    "    m.start()\n",
    "    m.join()"
   ]
  },
  {
   "cell_type": "code",
   "execution_count": 8,
   "id": "1942e080-9f41-4b63-b688-1a92ce5415ae",
   "metadata": {},
   "outputs": [
    {
     "data": {
      "text/plain": [
       "'\\nMultiprocessing pool used for:\\n    > Python multiprocessing Pool used for parallel execution of a function across multiple input values,\\n      distributing the input data across processes.\\n    > It creates multiple Python processes in the background and spreads out computations for across multiple \\n      CPU cores so that they all happen in parallel without needing to do anything.\\n'"
      ]
     },
     "execution_count": 8,
     "metadata": {},
     "output_type": "execute_result"
    }
   ],
   "source": [
    "# Ans :4\n",
    "'''\n",
    "Multiprocessing pool in python:\n",
    "    > A multiprocessing pool in Python refers to a feature provided by the multiprocessing module, which allows \n",
    "      you to create a pool of worker processes to execute tasks concurrently. This is particularly useful for tasks\n",
    "      that can be parallelized, such as performing calculations on a large dataset or processing multiple tasks\n",
    "      simultaneously.\n",
    "    \n",
    "'''\n",
    "'''\n",
    "Multiprocessing pool used for:\n",
    "    > Python multiprocessing Pool used for parallel execution of a function across multiple input values,\n",
    "      distributing the input data across processes.\n",
    "    > It creates multiple Python processes in the background and spreads out computations for across multiple \n",
    "      CPU cores so that they all happen in parallel without needing to do anything.\n",
    "'''"
   ]
  },
  {
   "cell_type": "code",
   "execution_count": 9,
   "id": "265af3a0-a433-43e5-89b3-52529fc71e7c",
   "metadata": {},
   "outputs": [
    {
     "name": "stdout",
     "output_type": "stream",
     "text": [
      "[1, 8, 27, 64, 125, 216, 343, 512, 729, 1000]\n"
     ]
    }
   ],
   "source": [
    "# Ans : 5\n",
    "'''\n",
    "To create a pool of processes in Python, we can use the 'multiprocessing' module's 'Pool' class. The'multiprocessing.\n",
    "Pool' object will maintain a collection of worker processes, to which we can submit tasks to be executed concurrently.\n",
    "'''\n",
    "\n",
    "# Example :\n",
    "\n",
    "import multiprocessing \n",
    "def cube(n):\n",
    "    return n**3\n",
    "if __name__ =='__main__':\n",
    "    with multiprocessing.Pool(processes=2) as pool:\n",
    "        cube=pool.map(cube , [1,2,3,4,5,6,7,8,9,10])\n",
    "        print(cube)"
   ]
  },
  {
   "cell_type": "code",
   "execution_count": 11,
   "id": "57ee29cb-a8cc-4a7c-89b8-54893f5b627e",
   "metadata": {},
   "outputs": [
    {
     "ename": "ModuleNotFoundError",
     "evalue": "No module named 'multithreading'",
     "output_type": "error",
     "traceback": [
      "\u001b[0;31m---------------------------------------------------------------------------\u001b[0m",
      "\u001b[0;31mModuleNotFoundError\u001b[0m                       Traceback (most recent call last)",
      "Cell \u001b[0;32mIn[11], line 2\u001b[0m\n\u001b[1;32m      1\u001b[0m \u001b[38;5;66;03m# Ans : 6\u001b[39;00m\n\u001b[0;32m----> 2\u001b[0m \u001b[38;5;28;01mimport\u001b[39;00m \u001b[38;5;21;01mmultithreading\u001b[39;00m\n\u001b[1;32m      3\u001b[0m \u001b[38;5;28;01mdef\u001b[39;00m \u001b[38;5;21mprintNumber\u001b[39m(n):\n\u001b[1;32m      4\u001b[0m     \u001b[38;5;28mprint\u001b[39m(n)\n",
      "\u001b[0;31mModuleNotFoundError\u001b[0m: No module named 'multithreading'"
     ]
    }
   ],
   "source": [
    "# Ans : 6\n",
    "import multithreading\n",
    "def printNumber(n):\n",
    "    print(n)\n",
    "if __name__=='__main__':\n",
    "    number=[1,2,3,4]\n",
    "    for i in number:\n",
    "        m=multiprocessing.Process(target=printNumber ,args=(i,))\n",
    "        m.start()\n",
    "    for i in number:\n",
    "        m.join()"
   ]
  },
  {
   "cell_type": "code",
   "execution_count": null,
   "id": "b82efa1e-469e-4ed3-be6c-60507ffdafff",
   "metadata": {},
   "outputs": [],
   "source": []
  }
 ],
 "metadata": {
  "kernelspec": {
   "display_name": "Python 3 (ipykernel)",
   "language": "python",
   "name": "python3"
  },
  "language_info": {
   "codemirror_mode": {
    "name": "ipython",
    "version": 3
   },
   "file_extension": ".py",
   "mimetype": "text/x-python",
   "name": "python",
   "nbconvert_exporter": "python",
   "pygments_lexer": "ipython3",
   "version": "3.10.8"
  }
 },
 "nbformat": 4,
 "nbformat_minor": 5
}
